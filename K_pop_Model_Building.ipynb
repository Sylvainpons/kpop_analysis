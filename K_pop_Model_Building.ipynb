{
 "cells": [
  {
   "cell_type": "markdown",
   "metadata": {
    "colab_type": "text",
    "id": "nqcfupPL1RCy"
   },
   "source": []
  },
  {
   "cell_type": "markdown",
   "metadata": {
    "colab_type": "text",
    "id": "NrMMZGPV1eC6"
   },
   "source": [
    "# Import Basic Libraries"
   ]
  },
  {
   "cell_type": "code",
   "execution_count": 4,
   "metadata": {
    "colab": {},
    "colab_type": "code",
    "id": "2zOJRGo50XJy"
   },
   "outputs": [],
   "source": [
    "import pandas as pd\n",
    "import numpy as np\n",
    "import matplotlib.pyplot  as plt"
   ]
  },
  {
   "cell_type": "markdown",
   "metadata": {
    "colab_type": "text",
    "id": "jsd-1pbc3sJG"
   },
   "source": [
    "# Import Data"
   ]
  },
  {
   "cell_type": "code",
   "execution_count": 5,
   "metadata": {
    "colab": {},
    "colab_type": "code",
    "id": "vHLCOA2l1kA7",
    "scrolled": true
   },
   "outputs": [],
   "source": [
    "df = pd.read_csv(\"fully cleaned kpop data.csv\")"
   ]
  },
  {
   "cell_type": "code",
   "execution_count": 6,
   "metadata": {
    "colab": {
     "base_uri": "https://localhost:8080/",
     "height": 119
    },
    "colab_type": "code",
    "id": "UQ9sKDTx17bz",
    "outputId": "73aa6668-7314-4332-cffb-47007c3b40ef"
   },
   "outputs": [
    {
     "data": {
      "text/plain": [
       "Index(['fav_grp', 'popl_by_co_yn', 'reason', 'yr_listened', 'gender_pref',\n",
       "       'daily_music_hr', 'watch_MV_yn', 'daily_MV_hr', 'obsessed_yn',\n",
       "       'news_medium', 'pursuit', 'time_cons_yn', 'life_chg', 'pos_eff',\n",
       "       'yr_merch_spent', 'money_src', 'concert_yn', 'crazy_ev', 'age',\n",
       "       'country', 'job', 'gender', 'num_gr_like', 'bts_vs_others'],\n",
       "      dtype='object')"
      ]
     },
     "execution_count": 6,
     "metadata": {},
     "output_type": "execute_result"
    }
   ],
   "source": [
    "df.columns"
   ]
  },
  {
   "cell_type": "code",
   "execution_count": 7,
   "metadata": {
    "colab": {},
    "colab_type": "code",
    "id": "ny4W3JD018-i"
   },
   "outputs": [],
   "source": [
    "# subset relevant columns for model\n",
    "\n",
    "df_model = df[['popl_by_co_yn', 'reason', 'yr_listened', 'gender_pref',\n",
    "       'daily_music_hr', 'watch_MV_yn', 'daily_MV_hr', 'obsessed_yn',\n",
    "       'news_medium', 'pursuit', 'time_cons_yn', 'life_chg', 'pos_eff',\n",
    "       'yr_merch_spent', 'money_src', 'concert_yn', 'crazy_ev', 'age',\n",
    "       'country', 'job', 'gender', 'num_gr_like', 'bts_vs_others']]"
   ]
  },
  {
   "cell_type": "code",
   "execution_count": 8,
   "metadata": {
    "colab": {
     "base_uri": "https://localhost:8080/",
     "height": 541
    },
    "colab_type": "code",
    "id": "Bw3tYkbK290t",
    "outputId": "95faba5e-5d38-4023-b819-2f05458e6f78"
   },
   "outputs": [
    {
     "data": {
      "text/html": [
       "<div>\n",
       "<style scoped>\n",
       "    .dataframe tbody tr th:only-of-type {\n",
       "        vertical-align: middle;\n",
       "    }\n",
       "\n",
       "    .dataframe tbody tr th {\n",
       "        vertical-align: top;\n",
       "    }\n",
       "\n",
       "    .dataframe thead th {\n",
       "        text-align: right;\n",
       "    }\n",
       "</style>\n",
       "<table border=\"1\" class=\"dataframe\">\n",
       "  <thead>\n",
       "    <tr style=\"text-align: right;\">\n",
       "      <th></th>\n",
       "      <th>yr_listened</th>\n",
       "      <th>daily_music_hr</th>\n",
       "      <th>daily_MV_hr</th>\n",
       "      <th>yr_merch_spent</th>\n",
       "      <th>age</th>\n",
       "      <th>num_gr_like</th>\n",
       "      <th>popl_by_co_yn_i'm not sure</th>\n",
       "      <th>popl_by_co_yn_its gaining popularity</th>\n",
       "      <th>popl_by_co_yn_no</th>\n",
       "      <th>popl_by_co_yn_yes</th>\n",
       "      <th>...</th>\n",
       "      <th>country_others (south africa, new zealand, sweden, finland, turkey, caribbean)</th>\n",
       "      <th>country_uk</th>\n",
       "      <th>country_usa</th>\n",
       "      <th>job_full-time worker</th>\n",
       "      <th>job_student</th>\n",
       "      <th>job_unemployed</th>\n",
       "      <th>gender_female</th>\n",
       "      <th>gender_male</th>\n",
       "      <th>gender_transgender</th>\n",
       "      <th>bts_vs_others_bts</th>\n",
       "    </tr>\n",
       "  </thead>\n",
       "  <tbody>\n",
       "    <tr>\n",
       "      <th>0</th>\n",
       "      <td>1.5</td>\n",
       "      <td>5.0</td>\n",
       "      <td>2.5</td>\n",
       "      <td>75</td>\n",
       "      <td>18</td>\n",
       "      <td>1</td>\n",
       "      <td>0</td>\n",
       "      <td>1</td>\n",
       "      <td>0</td>\n",
       "      <td>0</td>\n",
       "      <td>...</td>\n",
       "      <td>0</td>\n",
       "      <td>1</td>\n",
       "      <td>0</td>\n",
       "      <td>1</td>\n",
       "      <td>0</td>\n",
       "      <td>0</td>\n",
       "      <td>1</td>\n",
       "      <td>0</td>\n",
       "      <td>0</td>\n",
       "      <td>1</td>\n",
       "    </tr>\n",
       "    <tr>\n",
       "      <th>1</th>\n",
       "      <td>3.5</td>\n",
       "      <td>3.0</td>\n",
       "      <td>2.5</td>\n",
       "      <td>50</td>\n",
       "      <td>18</td>\n",
       "      <td>1</td>\n",
       "      <td>0</td>\n",
       "      <td>1</td>\n",
       "      <td>0</td>\n",
       "      <td>0</td>\n",
       "      <td>...</td>\n",
       "      <td>0</td>\n",
       "      <td>1</td>\n",
       "      <td>0</td>\n",
       "      <td>0</td>\n",
       "      <td>1</td>\n",
       "      <td>0</td>\n",
       "      <td>1</td>\n",
       "      <td>0</td>\n",
       "      <td>0</td>\n",
       "      <td>1</td>\n",
       "    </tr>\n",
       "    <tr>\n",
       "      <th>2</th>\n",
       "      <td>4.0</td>\n",
       "      <td>3.0</td>\n",
       "      <td>2.5</td>\n",
       "      <td>75</td>\n",
       "      <td>18</td>\n",
       "      <td>2</td>\n",
       "      <td>0</td>\n",
       "      <td>1</td>\n",
       "      <td>0</td>\n",
       "      <td>0</td>\n",
       "      <td>...</td>\n",
       "      <td>0</td>\n",
       "      <td>0</td>\n",
       "      <td>0</td>\n",
       "      <td>0</td>\n",
       "      <td>1</td>\n",
       "      <td>0</td>\n",
       "      <td>1</td>\n",
       "      <td>0</td>\n",
       "      <td>0</td>\n",
       "      <td>1</td>\n",
       "    </tr>\n",
       "    <tr>\n",
       "      <th>3</th>\n",
       "      <td>3.5</td>\n",
       "      <td>5.0</td>\n",
       "      <td>3.5</td>\n",
       "      <td>75</td>\n",
       "      <td>24</td>\n",
       "      <td>1</td>\n",
       "      <td>0</td>\n",
       "      <td>1</td>\n",
       "      <td>0</td>\n",
       "      <td>0</td>\n",
       "      <td>...</td>\n",
       "      <td>0</td>\n",
       "      <td>0</td>\n",
       "      <td>1</td>\n",
       "      <td>0</td>\n",
       "      <td>1</td>\n",
       "      <td>0</td>\n",
       "      <td>1</td>\n",
       "      <td>0</td>\n",
       "      <td>0</td>\n",
       "      <td>1</td>\n",
       "    </tr>\n",
       "    <tr>\n",
       "      <th>4</th>\n",
       "      <td>3.5</td>\n",
       "      <td>5.0</td>\n",
       "      <td>2.5</td>\n",
       "      <td>150</td>\n",
       "      <td>18</td>\n",
       "      <td>1</td>\n",
       "      <td>0</td>\n",
       "      <td>0</td>\n",
       "      <td>0</td>\n",
       "      <td>1</td>\n",
       "      <td>...</td>\n",
       "      <td>0</td>\n",
       "      <td>0</td>\n",
       "      <td>1</td>\n",
       "      <td>0</td>\n",
       "      <td>1</td>\n",
       "      <td>0</td>\n",
       "      <td>1</td>\n",
       "      <td>0</td>\n",
       "      <td>0</td>\n",
       "      <td>1</td>\n",
       "    </tr>\n",
       "    <tr>\n",
       "      <th>...</th>\n",
       "      <td>...</td>\n",
       "      <td>...</td>\n",
       "      <td>...</td>\n",
       "      <td>...</td>\n",
       "      <td>...</td>\n",
       "      <td>...</td>\n",
       "      <td>...</td>\n",
       "      <td>...</td>\n",
       "      <td>...</td>\n",
       "      <td>...</td>\n",
       "      <td>...</td>\n",
       "      <td>...</td>\n",
       "      <td>...</td>\n",
       "      <td>...</td>\n",
       "      <td>...</td>\n",
       "      <td>...</td>\n",
       "      <td>...</td>\n",
       "      <td>...</td>\n",
       "      <td>...</td>\n",
       "      <td>...</td>\n",
       "      <td>...</td>\n",
       "    </tr>\n",
       "    <tr>\n",
       "      <th>235</th>\n",
       "      <td>3.5</td>\n",
       "      <td>5.0</td>\n",
       "      <td>3.5</td>\n",
       "      <td>0</td>\n",
       "      <td>18</td>\n",
       "      <td>1</td>\n",
       "      <td>0</td>\n",
       "      <td>1</td>\n",
       "      <td>0</td>\n",
       "      <td>0</td>\n",
       "      <td>...</td>\n",
       "      <td>0</td>\n",
       "      <td>0</td>\n",
       "      <td>0</td>\n",
       "      <td>0</td>\n",
       "      <td>1</td>\n",
       "      <td>0</td>\n",
       "      <td>1</td>\n",
       "      <td>0</td>\n",
       "      <td>0</td>\n",
       "      <td>1</td>\n",
       "    </tr>\n",
       "    <tr>\n",
       "      <th>236</th>\n",
       "      <td>4.0</td>\n",
       "      <td>3.0</td>\n",
       "      <td>2.5</td>\n",
       "      <td>500</td>\n",
       "      <td>18</td>\n",
       "      <td>1</td>\n",
       "      <td>0</td>\n",
       "      <td>0</td>\n",
       "      <td>0</td>\n",
       "      <td>1</td>\n",
       "      <td>...</td>\n",
       "      <td>0</td>\n",
       "      <td>0</td>\n",
       "      <td>1</td>\n",
       "      <td>0</td>\n",
       "      <td>1</td>\n",
       "      <td>0</td>\n",
       "      <td>1</td>\n",
       "      <td>0</td>\n",
       "      <td>0</td>\n",
       "      <td>1</td>\n",
       "    </tr>\n",
       "    <tr>\n",
       "      <th>237</th>\n",
       "      <td>1.0</td>\n",
       "      <td>5.0</td>\n",
       "      <td>2.5</td>\n",
       "      <td>0</td>\n",
       "      <td>12</td>\n",
       "      <td>2</td>\n",
       "      <td>1</td>\n",
       "      <td>0</td>\n",
       "      <td>0</td>\n",
       "      <td>0</td>\n",
       "      <td>...</td>\n",
       "      <td>0</td>\n",
       "      <td>0</td>\n",
       "      <td>1</td>\n",
       "      <td>0</td>\n",
       "      <td>1</td>\n",
       "      <td>0</td>\n",
       "      <td>1</td>\n",
       "      <td>0</td>\n",
       "      <td>0</td>\n",
       "      <td>1</td>\n",
       "    </tr>\n",
       "    <tr>\n",
       "      <th>238</th>\n",
       "      <td>4.0</td>\n",
       "      <td>3.0</td>\n",
       "      <td>2.5</td>\n",
       "      <td>50</td>\n",
       "      <td>18</td>\n",
       "      <td>1</td>\n",
       "      <td>0</td>\n",
       "      <td>0</td>\n",
       "      <td>0</td>\n",
       "      <td>1</td>\n",
       "      <td>...</td>\n",
       "      <td>1</td>\n",
       "      <td>0</td>\n",
       "      <td>0</td>\n",
       "      <td>0</td>\n",
       "      <td>1</td>\n",
       "      <td>0</td>\n",
       "      <td>1</td>\n",
       "      <td>0</td>\n",
       "      <td>0</td>\n",
       "      <td>1</td>\n",
       "    </tr>\n",
       "    <tr>\n",
       "      <th>239</th>\n",
       "      <td>3.5</td>\n",
       "      <td>3.0</td>\n",
       "      <td>1.0</td>\n",
       "      <td>75</td>\n",
       "      <td>18</td>\n",
       "      <td>1</td>\n",
       "      <td>0</td>\n",
       "      <td>1</td>\n",
       "      <td>0</td>\n",
       "      <td>0</td>\n",
       "      <td>...</td>\n",
       "      <td>0</td>\n",
       "      <td>0</td>\n",
       "      <td>0</td>\n",
       "      <td>0</td>\n",
       "      <td>1</td>\n",
       "      <td>0</td>\n",
       "      <td>1</td>\n",
       "      <td>0</td>\n",
       "      <td>0</td>\n",
       "      <td>1</td>\n",
       "    </tr>\n",
       "  </tbody>\n",
       "</table>\n",
       "<p>240 rows × 72 columns</p>\n",
       "</div>"
      ],
      "text/plain": [
       "     yr_listened  daily_music_hr  daily_MV_hr  yr_merch_spent  age  \\\n",
       "0            1.5             5.0          2.5              75   18   \n",
       "1            3.5             3.0          2.5              50   18   \n",
       "2            4.0             3.0          2.5              75   18   \n",
       "3            3.5             5.0          3.5              75   24   \n",
       "4            3.5             5.0          2.5             150   18   \n",
       "..           ...             ...          ...             ...  ...   \n",
       "235          3.5             5.0          3.5               0   18   \n",
       "236          4.0             3.0          2.5             500   18   \n",
       "237          1.0             5.0          2.5               0   12   \n",
       "238          4.0             3.0          2.5              50   18   \n",
       "239          3.5             3.0          1.0              75   18   \n",
       "\n",
       "     num_gr_like  popl_by_co_yn_i'm not sure  \\\n",
       "0              1                           0   \n",
       "1              1                           0   \n",
       "2              2                           0   \n",
       "3              1                           0   \n",
       "4              1                           0   \n",
       "..           ...                         ...   \n",
       "235            1                           0   \n",
       "236            1                           0   \n",
       "237            2                           1   \n",
       "238            1                           0   \n",
       "239            1                           0   \n",
       "\n",
       "     popl_by_co_yn_its gaining popularity  popl_by_co_yn_no  \\\n",
       "0                                       1                 0   \n",
       "1                                       1                 0   \n",
       "2                                       1                 0   \n",
       "3                                       1                 0   \n",
       "4                                       0                 0   \n",
       "..                                    ...               ...   \n",
       "235                                     1                 0   \n",
       "236                                     0                 0   \n",
       "237                                     0                 0   \n",
       "238                                     0                 0   \n",
       "239                                     1                 0   \n",
       "\n",
       "     popl_by_co_yn_yes  ...  \\\n",
       "0                    0  ...   \n",
       "1                    0  ...   \n",
       "2                    0  ...   \n",
       "3                    0  ...   \n",
       "4                    1  ...   \n",
       "..                 ...  ...   \n",
       "235                  0  ...   \n",
       "236                  1  ...   \n",
       "237                  0  ...   \n",
       "238                  1  ...   \n",
       "239                  0  ...   \n",
       "\n",
       "     country_others (south africa, new zealand, sweden, finland, turkey, caribbean)  \\\n",
       "0                                                    0                                \n",
       "1                                                    0                                \n",
       "2                                                    0                                \n",
       "3                                                    0                                \n",
       "4                                                    0                                \n",
       "..                                                 ...                                \n",
       "235                                                  0                                \n",
       "236                                                  0                                \n",
       "237                                                  0                                \n",
       "238                                                  1                                \n",
       "239                                                  0                                \n",
       "\n",
       "     country_uk  country_usa  job_full-time worker  job_student  \\\n",
       "0             1            0                     1            0   \n",
       "1             1            0                     0            1   \n",
       "2             0            0                     0            1   \n",
       "3             0            1                     0            1   \n",
       "4             0            1                     0            1   \n",
       "..          ...          ...                   ...          ...   \n",
       "235           0            0                     0            1   \n",
       "236           0            1                     0            1   \n",
       "237           0            1                     0            1   \n",
       "238           0            0                     0            1   \n",
       "239           0            0                     0            1   \n",
       "\n",
       "     job_unemployed  gender_female  gender_male  gender_transgender  \\\n",
       "0                 0              1            0                   0   \n",
       "1                 0              1            0                   0   \n",
       "2                 0              1            0                   0   \n",
       "3                 0              1            0                   0   \n",
       "4                 0              1            0                   0   \n",
       "..              ...            ...          ...                 ...   \n",
       "235               0              1            0                   0   \n",
       "236               0              1            0                   0   \n",
       "237               0              1            0                   0   \n",
       "238               0              1            0                   0   \n",
       "239               0              1            0                   0   \n",
       "\n",
       "     bts_vs_others_bts  \n",
       "0                    1  \n",
       "1                    1  \n",
       "2                    1  \n",
       "3                    1  \n",
       "4                    1  \n",
       "..                 ...  \n",
       "235                  1  \n",
       "236                  1  \n",
       "237                  1  \n",
       "238                  1  \n",
       "239                  1  \n",
       "\n",
       "[240 rows x 72 columns]"
      ]
     },
     "execution_count": 8,
     "metadata": {},
     "output_type": "execute_result"
    }
   ],
   "source": [
    "# get dummy data to convert categorical variable into dummy/indicator variables\n",
    "df_dum = pd.get_dummies(df_model)\n",
    "df_dum"
   ]
  },
  {
   "cell_type": "markdown",
   "metadata": {
    "colab_type": "text",
    "id": "J_gN2Kg23vvW"
   },
   "source": [
    "# Train and Test Split (80/20)"
   ]
  },
  {
   "cell_type": "code",
   "execution_count": 9,
   "metadata": {
    "colab": {},
    "colab_type": "code",
    "id": "2pmyih2P3w8k"
   },
   "outputs": [],
   "source": [
    "from sklearn.model_selection import train_test_split\n",
    "\n",
    "X = df_dum.drop('daily_music_hr', axis = 1)\n",
    "y = df_dum.daily_music_hr.values # creates an array - recommended to use for models\n",
    "\n",
    "# 80/20 train test split\n",
    "X_train, X_test, y_train, y_test = train_test_split(X, y, test_size = 0.2, random_state = 1)"
   ]
  },
  {
   "cell_type": "markdown",
   "metadata": {
    "colab_type": "text",
    "id": "32xqj_KF4_ys"
   },
   "source": [
    "# Multiple Linear Regression"
   ]
  },
  {
   "cell_type": "markdown",
   "metadata": {
    "colab_type": "text",
    "id": "3hbk4DddoWIy"
   },
   "source": [
    "Using sklearn's linear regression"
   ]
  },
  {
   "cell_type": "code",
   "execution_count": 10,
   "metadata": {
    "colab": {
     "base_uri": "https://localhost:8080/",
     "height": 357
    },
    "colab_type": "code",
    "id": "CNpJxmfr6ByD",
    "outputId": "5e31134c-55a7-4192-dc78-b03155e898d1"
   },
   "outputs": [
    {
     "name": "stdout",
     "output_type": "stream",
     "text": [
      "Coefficients: [ 0.00781768  0.13699177  0.00574065 -0.07329897  0.11862631  0.31594997\n",
      "  0.80123676 -1.96057884  0.8433921  -2.50124975  0.57112248  1.3043756\n",
      "  0.62575167  0.00719842 -0.18726413  0.26401237 -0.08394665  0.60653967\n",
      " -0.60653967 -0.13161908 -0.2271905   0.35880958 -0.11883467 -0.06692684\n",
      "  0.18576151  0.07933676 -2.72013142  0.30424675 -0.63075664  0.8833308\n",
      "  2.08397376  0.01393121 -0.2409122   0.22698099 -0.66461435 -0.08208277\n",
      "  2.50349647 -0.87107398 -0.88572537  0.5205511  -0.43689613 -0.57362077\n",
      "  0.4899658  -1.19078763 -0.0233225   0.10035434  0.53333056  0.58042523\n",
      "  0.23305391 -0.10530671 -0.1277472  -0.33426188  0.26923996  0.06502192\n",
      " -0.2164026   0.21371175  0.45906971 -0.21961044 -0.18868365 -0.8225217\n",
      " -0.14817021  1.0375425   0.13779205 -0.25272741 -0.264368   -0.13801935\n",
      "  0.40238735 -0.31485105 -0.17095967  0.48581072  0.        ]\n",
      "Intercept: 3.490424829454292\n",
      "Mean absolute error (MAE): 2.16\n"
     ]
    }
   ],
   "source": [
    "from sklearn.linear_model import LinearRegression\n",
    "from sklearn.metrics import mean_absolute_error\n",
    "\n",
    "# initialize the linear regression model\n",
    "lm = LinearRegression()\n",
    "\n",
    "# train the model\n",
    "lm.fit(X_train, y_train)\n",
    "\n",
    "# perform predicion on the test data\n",
    "y_pred = lm.predict(X_test)\n",
    "\n",
    "# performance metrics\n",
    "print('Coefficients:', lm.coef_)\n",
    "print('Intercept:', lm.intercept_)\n",
    "print('Mean absolute error (MAE): %.2f' % mean_absolute_error(y_test, y_pred))"
   ]
  },
  {
   "cell_type": "code",
   "execution_count": 11,
   "metadata": {
    "colab": {
     "base_uri": "https://localhost:8080/",
     "height": 34
    },
    "colab_type": "code",
    "id": "j-_CO4Aa3mNn",
    "outputId": "dca20ee8-a084-4cf0-fdb4-ed45e8589774"
   },
   "outputs": [
    {
     "data": {
      "text/plain": [
       "0.5"
      ]
     },
     "execution_count": 11,
     "metadata": {},
     "output_type": "execute_result"
    }
   ],
   "source": [
    "np.min(df.daily_music_hr)"
   ]
  },
  {
   "cell_type": "markdown",
   "metadata": {
    "colab_type": "text",
    "id": "IGsK-ucxw9oQ"
   },
   "source": [
    "Check MLR's performance using 10 fold Cross Validation"
   ]
  },
  {
   "cell_type": "code",
   "execution_count": 12,
   "metadata": {
    "colab": {
     "base_uri": "https://localhost:8080/",
     "height": 34
    },
    "colab_type": "code",
    "id": "z9bMtlPOp-wk",
    "outputId": "3998e0ae-8d9d-4107-c8dc-bc2d18115b14"
   },
   "outputs": [
    {
     "data": {
      "text/plain": [
       "-1.9762961037820794"
      ]
     },
     "execution_count": 12,
     "metadata": {},
     "output_type": "execute_result"
    }
   ],
   "source": [
    "from sklearn.model_selection import cross_val_score\n",
    "\n",
    "np.mean(cross_val_score(lm ,X_train, y_train, scoring = 'neg_mean_absolute_error', cv = 10))\n",
    "# mean prediction is off by 1.98 hours"
   ]
  },
  {
   "cell_type": "markdown",
   "metadata": {
    "colab_type": "text",
    "id": "uD9cgjaVxI-S"
   },
   "source": [
    "# [Lasso Regression (L1 Regularization)](https://scikit-learn.org/stable/modules/generated/sklearn.linear_model.Lasso.html) \n"
   ]
  },
  {
   "cell_type": "code",
   "execution_count": 13,
   "metadata": {
    "colab": {
     "base_uri": "https://localhost:8080/",
     "height": 34
    },
    "colab_type": "code",
    "id": "JyQ1GvpAvboK",
    "outputId": "b72bbfee-98b0-4bb7-c80e-dfe75f202ca3"
   },
   "outputs": [
    {
     "data": {
      "text/plain": [
       "-1.5793841855417106"
      ]
     },
     "execution_count": 13,
     "metadata": {},
     "output_type": "execute_result"
    }
   ],
   "source": [
    "from sklearn.linear_model import Lasso\n",
    "\n",
    "lm_las = Lasso() # alpha defaults to 1\n",
    "lm_las.fit(X_train,y_train)\n",
    "np.mean(cross_val_score(lm_las, X_train, y_train, scoring = 'neg_mean_absolute_error', cv = 10))\n",
    "# mean prediction is off by 1.58 hours"
   ]
  },
  {
   "cell_type": "markdown",
   "metadata": {
    "colab_type": "text",
    "id": "VP-QaGGHzMiX"
   },
   "source": [
    "Find the optimal alpha"
   ]
  },
  {
   "cell_type": "code",
   "execution_count": 14,
   "metadata": {
    "colab": {
     "base_uri": "https://localhost:8080/",
     "height": 282
    },
    "colab_type": "code",
    "id": "pnmOlt_cysOb",
    "outputId": "e4f5427f-7308-4941-d248-df99125df952"
   },
   "outputs": [
    {
     "data": {
      "text/plain": [
       "[<matplotlib.lines.Line2D at 0x1fc76446a90>]"
      ]
     },
     "execution_count": 14,
     "metadata": {},
     "output_type": "execute_result"
    },
    {
     "data": {
      "image/png": "[encoded data removed]",
      "text/plain": [
       "<Figure size 432x288 with 1 Axes>"
      ]
     },
     "metadata": {
      "needs_background": "light"
     },
     "output_type": "display_data"
    }
   ],
   "source": [
    "alpha = []\n",
    "err = []\n",
    "\n",
    "for i in range(1, 100):\n",
    "  alpha.append(i/100)\n",
    "  lmlas = Lasso(alpha = (i/100))\n",
    "  err.append(np.mean(cross_val_score(lmlas, X_train, y_train, scoring = 'neg_mean_absolute_error', cv = 10)))\n",
    "\n",
    "plt.plot(alpha,err)"
   ]
  },
  {
   "cell_type": "code",
   "execution_count": 15,
   "metadata": {
    "colab": {
     "base_uri": "https://localhost:8080/",
     "height": 80
    },
    "colab_type": "code",
    "id": "DXZQOmZ5znQM",
    "outputId": "b0d5b1bc-d5f2-4913-e206-2681796411a9"
   },
   "outputs": [
    {
     "data": {
      "text/html": [
       "<div>\n",
       "<style scoped>\n",
       "    .dataframe tbody tr th:only-of-type {\n",
       "        vertical-align: middle;\n",
       "    }\n",
       "\n",
       "    .dataframe tbody tr th {\n",
       "        vertical-align: top;\n",
       "    }\n",
       "\n",
       "    .dataframe thead th {\n",
       "        text-align: right;\n",
       "    }\n",
       "</style>\n",
       "<table border=\"1\" class=\"dataframe\">\n",
       "  <thead>\n",
       "    <tr style=\"text-align: right;\">\n",
       "      <th></th>\n",
       "      <th>alpha</th>\n",
       "      <th>err</th>\n",
       "    </tr>\n",
       "  </thead>\n",
       "  <tbody>\n",
       "    <tr>\n",
       "      <th>8</th>\n",
       "      <td>0.09</td>\n",
       "      <td>-1.569488</td>\n",
       "    </tr>\n",
       "  </tbody>\n",
       "</table>\n",
       "</div>"
      ],
      "text/plain": [
       "   alpha       err\n",
       "8   0.09 -1.569488"
      ]
     },
     "execution_count": 15,
     "metadata": {},
     "output_type": "execute_result"
    }
   ],
   "source": [
    "err = tuple(zip(alpha,err))\n",
    "df_err = pd.DataFrame(err, columns = ['alpha','err'])\n",
    "df_err[df_err.err == max(df_err.err)]"
   ]
  },
  {
   "cell_type": "code",
   "execution_count": 16,
   "metadata": {
    "colab": {
     "base_uri": "https://localhost:8080/",
     "height": 34
    },
    "colab_type": "code",
    "id": "vfjxx6lo3kqY",
    "outputId": "32213e60-82a7-4e02-de34-897c4f1921dd"
   },
   "outputs": [
    {
     "data": {
      "text/plain": [
       "-1.5694876958868378"
      ]
     },
     "execution_count": 16,
     "metadata": {},
     "output_type": "execute_result"
    }
   ],
   "source": [
    "lm_las = Lasso(alpha = 0.09) # alpha defaults to 1\n",
    "lm_las.fit(X_train,y_train)\n",
    "np.mean(cross_val_score(lm_las, X_train, y_train, scoring = 'neg_mean_absolute_error', cv = 10))"
   ]
  },
  {
   "cell_type": "markdown",
   "metadata": {
    "colab_type": "text",
    "id": "j1c7sU-_Aw_-"
   },
   "source": [
    "# [Ridge Regression (L2 Regularization)](https://scikit-learn.org/stable/modules/generated/sklearn.linear_model.Ridge.html)"
   ]
  },
  {
   "cell_type": "code",
   "execution_count": 17,
   "metadata": {
    "colab": {
     "base_uri": "https://localhost:8080/",
     "height": 34
    },
    "colab_type": "code",
    "id": "0ThGpNxBA00_",
    "outputId": "fd0e128b-8f3e-40dc-933c-5c92bdf550c2"
   },
   "outputs": [
    {
     "data": {
      "text/plain": [
       "-1.850441151935846"
      ]
     },
     "execution_count": 17,
     "metadata": {},
     "output_type": "execute_result"
    }
   ],
   "source": [
    "from sklearn.linear_model import Ridge\n",
    "lm_rid = Ridge()\n",
    "lm_rid.fit(X_train,y_train)\n",
    "np.mean(cross_val_score(lm_rid, X_train, y_train, scoring = 'neg_mean_absolute_error', cv = 10))"
   ]
  },
  {
   "cell_type": "code",
   "execution_count": 18,
   "metadata": {
    "colab": {
     "base_uri": "https://localhost:8080/",
     "height": 282
    },
    "colab_type": "code",
    "id": "V66v52SlBGq1",
    "outputId": "a58d28d1-712c-416e-a490-1d9f1b96b4d7"
   },
   "outputs": [
    {
     "data": {
      "text/plain": [
       "[<matplotlib.lines.Line2D at 0x1fc7656a580>]"
      ]
     },
     "execution_count": 18,
     "metadata": {},
     "output_type": "execute_result"
    },
    {
     "data": {
      "image/png": "[encoded data removed]",
      "text/plain": [
       "<Figure size 432x288 with 1 Axes>"
      ]
     },
     "metadata": {
      "needs_background": "light"
     },
     "output_type": "display_data"
    }
   ],
   "source": [
    "alpha = []\n",
    "err = []\n",
    "\n",
    "for i in range(1, 100):\n",
    "  alpha.append(i/100)\n",
    "  lmrid = Ridge(alpha = (i/100))\n",
    "  err.append(np.mean(cross_val_score(lmrid, X_train, y_train, scoring = 'neg_mean_absolute_error', cv = 10)))\n",
    "\n",
    "plt.plot(alpha,err)"
   ]
  },
  {
   "cell_type": "markdown",
   "metadata": {
    "colab_type": "text",
    "id": "ri0YV3sd2IU-"
   },
   "source": [
    "# [Random Forest Regressor](https://scikit-learn.org/stable/modules/generated/sklearn.ensemble.RandomForestRegressor.html?highlight=random%20forest#sklearn.ensemble.RandomForestRegressor)"
   ]
  },
  {
   "cell_type": "code",
   "execution_count": 19,
   "metadata": {
    "colab": {
     "base_uri": "https://localhost:8080/",
     "height": 34
    },
    "colab_type": "code",
    "id": "yUUxmU_21P-I",
    "outputId": "f36c2f41-5c42-4f3c-ac62-7af4eaf2823c"
   },
   "outputs": [
    {
     "data": {
      "text/plain": [
       "-1.6088319240192746"
      ]
     },
     "execution_count": 19,
     "metadata": {},
     "output_type": "execute_result"
    }
   ],
   "source": [
    "from sklearn.ensemble import RandomForestRegressor\n",
    "rf = RandomForestRegressor(max_depth=2, random_state=0)\n",
    "\n",
    "np.mean(cross_val_score(rf, X_train, y_train, scoring = 'neg_mean_absolute_error', cv= 10))"
   ]
  },
  {
   "cell_type": "markdown",
   "metadata": {
    "colab_type": "text",
    "id": "9cFz1sJM4oAR"
   },
   "source": [
    "[Tune RF using GridsearchCV](https://scikit-learn.org/stable/modules/generated/sklearn.model_selection.GridSearchCV.html)"
   ]
  },
  {
   "cell_type": "code",
   "execution_count": 20,
   "metadata": {
    "colab": {
     "base_uri": "https://localhost:8080/",
     "height": 357
    },
    "colab_type": "code",
    "id": "fjh5HF8114E3",
    "outputId": "879bcc4f-9968-4ceb-c55c-4c25d832bbc4"
   },
   "outputs": [
    {
     "data": {
      "text/plain": [
       "GridSearchCV(cv=10,\n",
       "             estimator=RandomForestRegressor(max_depth=2, random_state=0),\n",
       "             param_grid={'criterion': ('mse', 'mae'),\n",
       "                         'max_features': ('auto', 'sqrt', 'log2'),\n",
       "                         'n_estimators': range(10, 100, 10)},\n",
       "             scoring='neg_mean_absolute_error')"
      ]
     },
     "execution_count": 20,
     "metadata": {},
     "output_type": "execute_result"
    }
   ],
   "source": [
    "from sklearn.model_selection import GridSearchCV\n",
    "\n",
    "params = {'n_estimators':range(10,100,10), 'criterion':('mse','mae'), 'max_features':('auto','sqrt','log2')}\n",
    "\n",
    "gs_rf = GridSearchCV(rf, params ,scoring = 'neg_mean_absolute_error', cv = 10)\n",
    "gs_rf.fit(X_train, y_train)"
   ]
  },
  {
   "cell_type": "code",
   "execution_count": 21,
   "metadata": {
    "colab": {
     "base_uri": "https://localhost:8080/",
     "height": 34
    },
    "colab_type": "code",
    "id": "SOEfYTOG58uU",
    "outputId": "7bf99147-0459-4026-b44b-36840d5a2921"
   },
   "outputs": [
    {
     "data": {
      "text/plain": [
       "-1.5059671052631578"
      ]
     },
     "execution_count": 21,
     "metadata": {},
     "output_type": "execute_result"
    }
   ],
   "source": [
    "gs_rf.best_score_"
   ]
  },
  {
   "cell_type": "code",
   "execution_count": 22,
   "metadata": {
    "colab": {
     "base_uri": "https://localhost:8080/",
     "height": 136
    },
    "colab_type": "code",
    "id": "ZY5v_ikF-lOt",
    "outputId": "e82969ed-ad3d-4dd1-a6c3-aa658d57c941"
   },
   "outputs": [
    {
     "data": {
      "text/plain": [
       "RandomForestRegressor(criterion='mae', max_depth=2, n_estimators=80,\n",
       "                      random_state=0)"
      ]
     },
     "execution_count": 22,
     "metadata": {},
     "output_type": "execute_result"
    }
   ],
   "source": [
    "gs_rf.best_estimator_"
   ]
  },
  {
   "cell_type": "markdown",
   "metadata": {
    "colab_type": "text",
    "id": "B89YUiLHCMRl"
   },
   "source": [
    "# [XGBoost](https://xgboost.readthedocs.io/en/latest/)"
   ]
  },
  {
   "cell_type": "code",
   "execution_count": 23,
   "metadata": {
    "colab": {
     "base_uri": "https://localhost:8080/",
     "height": 34
    },
    "colab_type": "code",
    "id": "QVf5ox-kCKph",
    "outputId": "7a2862a0-91a2-4220-ba37-2e833547bbeb"
   },
   "outputs": [
    {
     "ename": "ModuleNotFoundError",
     "evalue": "No module named 'xgboost'",
     "output_type": "error",
     "traceback": [
      "\u001b[1;31m---------------------------------------------------------------------------\u001b[0m",
      "\u001b[1;31mModuleNotFoundError\u001b[0m                       Traceback (most recent call last)",
      "\u001b[1;32m<ipython-input-23-ce9e7b2cfa8d>\u001b[0m in \u001b[0;36m<module>\u001b[1;34m\u001b[0m\n\u001b[1;32m----> 1\u001b[1;33m \u001b[1;32mfrom\u001b[0m \u001b[0mxgboost\u001b[0m \u001b[1;32mimport\u001b[0m \u001b[0mXGBClassifier\u001b[0m\u001b[1;33m\u001b[0m\u001b[1;33m\u001b[0m\u001b[0m\n\u001b[0m\u001b[0;32m      2\u001b[0m \u001b[1;33m\u001b[0m\u001b[0m\n\u001b[0;32m      3\u001b[0m \u001b[1;31m# initialize the linear regression model\u001b[0m\u001b[1;33m\u001b[0m\u001b[1;33m\u001b[0m\u001b[1;33m\u001b[0m\u001b[0m\n\u001b[0;32m      4\u001b[0m \u001b[0mxgb\u001b[0m \u001b[1;33m=\u001b[0m \u001b[0mXGBClassifier\u001b[0m\u001b[1;33m(\u001b[0m\u001b[1;33m)\u001b[0m\u001b[1;33m\u001b[0m\u001b[1;33m\u001b[0m\u001b[0m\n\u001b[0;32m      5\u001b[0m \u001b[1;33m\u001b[0m\u001b[0m\n",
      "\u001b[1;31mModuleNotFoundError\u001b[0m: No module named 'xgboost'"
     ]
    }
   ],
   "source": [
    "from xgboost import XGBClassifier\n",
    "\n",
    "# initialize the linear regression model\n",
    "xgb = XGBClassifier()\n",
    "\n",
    "# train the model\n",
    "xgb.fit(X_train, y_train)\n",
    "\n",
    "np.mean(cross_val_score(xgb ,X_train, y_train, scoring = 'neg_mean_absolute_error', cv = 10))"
   ]
  },
  {
   "cell_type": "markdown",
   "metadata": {
    "colab_type": "text",
    "id": "WzXCko9WEN-Z"
   },
   "source": [
    "Tune XGBoost using GridSearchCV"
   ]
  },
  {
   "cell_type": "code",
   "execution_count": null,
   "metadata": {
    "colab": {
     "base_uri": "https://localhost:8080/",
     "height": 306
    },
    "colab_type": "code",
    "id": "oJahkwwjEoBn",
    "outputId": "8b3931ea-2bc7-4247-f31f-77170babf1bf"
   },
   "outputs": [],
   "source": [
    "params = {'min_child_weight': [3, 5], 'gamma': [0.5, 1], 'subsample': [0.8, 1.0],\n",
    "          'colsample_bytree': [0.6, 0.8], 'max_depth': [1,2]}\n",
    "\n",
    "gs_xgb = GridSearchCV(xgb, params ,scoring = 'neg_mean_absolute_error', cv = 10)\n",
    "gs_xgb.fit(X_train, y_train)"
   ]
  },
  {
   "cell_type": "code",
   "execution_count": null,
   "metadata": {
    "colab": {
     "base_uri": "https://localhost:8080/",
     "height": 34
    },
    "colab_type": "code",
    "id": "9fHepBjPHEie",
    "outputId": "2a7b3a50-025a-46b4-c5dc-7d8e41c30823"
   },
   "outputs": [],
   "source": [
    "gs_xgb.best_score_"
   ]
  },
  {
   "cell_type": "code",
   "execution_count": null,
   "metadata": {
    "colab": {
     "base_uri": "https://localhost:8080/",
     "height": 136
    },
    "colab_type": "code",
    "id": "yM1ix4zYHLK9",
    "outputId": "e11ae354-3606-4980-a08c-c65022aecda5"
   },
   "outputs": [],
   "source": [
    "gs_xgb.best_estimator_"
   ]
  },
  {
   "cell_type": "markdown",
   "metadata": {
    "colab_type": "text",
    "id": "HHcLVTxD_igh"
   },
   "source": [
    "# Comparing model performances"
   ]
  },
  {
   "cell_type": "code",
   "execution_count": null,
   "metadata": {
    "colab": {},
    "colab_type": "code",
    "id": "nqTHErpp-mxk"
   },
   "outputs": [],
   "source": [
    "lm_pred = lm.predict(X_test)\n",
    "lm_las_pred = lm_las.predict(X_test)\n",
    "lm_rid_pred = lm_rid.predict(X_test)\n",
    "rf_pred = gs_rf.best_estimator_.predict(X_test)\n",
    "xgb_pred = gs_xgb.best_estimator_.predict(X_test)"
   ]
  },
  {
   "cell_type": "code",
   "execution_count": null,
   "metadata": {
    "colab": {
     "base_uri": "https://localhost:8080/",
     "height": 102
    },
    "colab_type": "code",
    "id": "_ITYiVYd_EfQ",
    "outputId": "9131a2bb-57d6-4cfd-b3a9-2eca3d9313e9"
   },
   "outputs": [],
   "source": [
    "print(\"MLR MAE: \", mean_absolute_error(y_test, lm_pred))\n",
    "print(\"Lasso Regression MAE: \", mean_absolute_error(y_test, lm_las_pred))\n",
    "print(\"Ridge Regression MAE: \", mean_absolute_error(y_test, lm_rid_pred))\n",
    "print(\"Random Forest MAE: \", mean_absolute_error(y_test, rf_pred))\n",
    "print(\"XGBoost MAE: \", mean_absolute_error(y_test, xgb_pred))"
   ]
  },
  {
   "cell_type": "code",
   "execution_count": null,
   "metadata": {
    "colab": {},
    "colab_type": "code",
    "id": "GCdRCcSYjL07"
   },
   "outputs": [],
   "source": []
  },
  {
   "cell_type": "code",
   "execution_count": null,
   "metadata": {},
   "outputs": [],
   "source": []
  }
 ],
 "metadata": {
  "colab": {
   "collapsed_sections": [],
   "name": "K-pop_Model_Building.ipynb",
   "provenance": []
  },
  "kernelspec": {
   "display_name": "Python 3",
   "language": "python",
   "name": "python3"
  },
  "language_info": {
   "codemirror_mode": {
    "name": "ipython",
    "version": 3
   },
   "file_extension": ".py",
   "mimetype": "text/x-python",
   "name": "python",
   "nbconvert_exporter": "python",
   "pygments_lexer": "ipython3",
   "version": "3.8.8"
  }
 },
 "nbformat": 4,
 "nbformat_minor": 1
}
